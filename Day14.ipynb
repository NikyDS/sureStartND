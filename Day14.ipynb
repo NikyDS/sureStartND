{
  "nbformat": 4,
  "nbformat_minor": 0,
  "metadata": {
    "colab": {
      "name": "Day14.ipynb",
      "provenance": [],
      "authorship_tag": "ABX9TyPtaTvYJjAW2YuadLYQggnq",
      "include_colab_link": true
    },
    "kernelspec": {
      "name": "python3",
      "display_name": "Python 3"
    },
    "language_info": {
      "name": "python"
    }
  },
  "cells": [
    {
      "cell_type": "markdown",
      "metadata": {
        "id": "view-in-github",
        "colab_type": "text"
      },
      "source": [
        "<a href=\"https://colab.research.google.com/github/NikyDS/sureStartND/blob/main/Day14.ipynb\" target=\"_parent\"><img src=\"https://colab.research.google.com/assets/colab-badge.svg\" alt=\"Open In Colab\"/></a>"
      ]
    },
    {
      "cell_type": "code",
      "metadata": {
        "id": "oiADx6wveKym"
      },
      "source": [
        "import pandas as pd"
      ],
      "execution_count": 2,
      "outputs": []
    },
    {
      "cell_type": "code",
      "metadata": {
        "id": "1O1_iluFeYdc"
      },
      "source": [
        "df = pd.read_csv('housepricedata.csv')"
      ],
      "execution_count": 4,
      "outputs": []
    },
    {
      "cell_type": "code",
      "metadata": {
        "colab": {
          "base_uri": "https://localhost:8080/",
          "height": 419
        },
        "id": "sGlVGkvUeYkT",
        "outputId": "4e94d934-07a4-4666-8d90-868a3c46fa48"
      },
      "source": [
        "df"
      ],
      "execution_count": 5,
      "outputs": [
        {
          "output_type": "execute_result",
          "data": {
            "text/html": [
              "<div>\n",
              "<style scoped>\n",
              "    .dataframe tbody tr th:only-of-type {\n",
              "        vertical-align: middle;\n",
              "    }\n",
              "\n",
              "    .dataframe tbody tr th {\n",
              "        vertical-align: top;\n",
              "    }\n",
              "\n",
              "    .dataframe thead th {\n",
              "        text-align: right;\n",
              "    }\n",
              "</style>\n",
              "<table border=\"1\" class=\"dataframe\">\n",
              "  <thead>\n",
              "    <tr style=\"text-align: right;\">\n",
              "      <th></th>\n",
              "      <th>LotArea</th>\n",
              "      <th>OverallQual</th>\n",
              "      <th>OverallCond</th>\n",
              "      <th>TotalBsmtSF</th>\n",
              "      <th>FullBath</th>\n",
              "      <th>HalfBath</th>\n",
              "      <th>BedroomAbvGr</th>\n",
              "      <th>TotRmsAbvGrd</th>\n",
              "      <th>Fireplaces</th>\n",
              "      <th>GarageArea</th>\n",
              "      <th>AboveMedianPrice</th>\n",
              "    </tr>\n",
              "  </thead>\n",
              "  <tbody>\n",
              "    <tr>\n",
              "      <th>0</th>\n",
              "      <td>8450</td>\n",
              "      <td>7</td>\n",
              "      <td>5</td>\n",
              "      <td>856</td>\n",
              "      <td>2</td>\n",
              "      <td>1</td>\n",
              "      <td>3</td>\n",
              "      <td>8</td>\n",
              "      <td>0</td>\n",
              "      <td>548</td>\n",
              "      <td>1</td>\n",
              "    </tr>\n",
              "    <tr>\n",
              "      <th>1</th>\n",
              "      <td>9600</td>\n",
              "      <td>6</td>\n",
              "      <td>8</td>\n",
              "      <td>1262</td>\n",
              "      <td>2</td>\n",
              "      <td>0</td>\n",
              "      <td>3</td>\n",
              "      <td>6</td>\n",
              "      <td>1</td>\n",
              "      <td>460</td>\n",
              "      <td>1</td>\n",
              "    </tr>\n",
              "    <tr>\n",
              "      <th>2</th>\n",
              "      <td>11250</td>\n",
              "      <td>7</td>\n",
              "      <td>5</td>\n",
              "      <td>920</td>\n",
              "      <td>2</td>\n",
              "      <td>1</td>\n",
              "      <td>3</td>\n",
              "      <td>6</td>\n",
              "      <td>1</td>\n",
              "      <td>608</td>\n",
              "      <td>1</td>\n",
              "    </tr>\n",
              "    <tr>\n",
              "      <th>3</th>\n",
              "      <td>9550</td>\n",
              "      <td>7</td>\n",
              "      <td>5</td>\n",
              "      <td>756</td>\n",
              "      <td>1</td>\n",
              "      <td>0</td>\n",
              "      <td>3</td>\n",
              "      <td>7</td>\n",
              "      <td>1</td>\n",
              "      <td>642</td>\n",
              "      <td>0</td>\n",
              "    </tr>\n",
              "    <tr>\n",
              "      <th>4</th>\n",
              "      <td>14260</td>\n",
              "      <td>8</td>\n",
              "      <td>5</td>\n",
              "      <td>1145</td>\n",
              "      <td>2</td>\n",
              "      <td>1</td>\n",
              "      <td>4</td>\n",
              "      <td>9</td>\n",
              "      <td>1</td>\n",
              "      <td>836</td>\n",
              "      <td>1</td>\n",
              "    </tr>\n",
              "    <tr>\n",
              "      <th>...</th>\n",
              "      <td>...</td>\n",
              "      <td>...</td>\n",
              "      <td>...</td>\n",
              "      <td>...</td>\n",
              "      <td>...</td>\n",
              "      <td>...</td>\n",
              "      <td>...</td>\n",
              "      <td>...</td>\n",
              "      <td>...</td>\n",
              "      <td>...</td>\n",
              "      <td>...</td>\n",
              "    </tr>\n",
              "    <tr>\n",
              "      <th>1455</th>\n",
              "      <td>7917</td>\n",
              "      <td>6</td>\n",
              "      <td>5</td>\n",
              "      <td>953</td>\n",
              "      <td>2</td>\n",
              "      <td>1</td>\n",
              "      <td>3</td>\n",
              "      <td>7</td>\n",
              "      <td>1</td>\n",
              "      <td>460</td>\n",
              "      <td>1</td>\n",
              "    </tr>\n",
              "    <tr>\n",
              "      <th>1456</th>\n",
              "      <td>13175</td>\n",
              "      <td>6</td>\n",
              "      <td>6</td>\n",
              "      <td>1542</td>\n",
              "      <td>2</td>\n",
              "      <td>0</td>\n",
              "      <td>3</td>\n",
              "      <td>7</td>\n",
              "      <td>2</td>\n",
              "      <td>500</td>\n",
              "      <td>1</td>\n",
              "    </tr>\n",
              "    <tr>\n",
              "      <th>1457</th>\n",
              "      <td>9042</td>\n",
              "      <td>7</td>\n",
              "      <td>9</td>\n",
              "      <td>1152</td>\n",
              "      <td>2</td>\n",
              "      <td>0</td>\n",
              "      <td>4</td>\n",
              "      <td>9</td>\n",
              "      <td>2</td>\n",
              "      <td>252</td>\n",
              "      <td>1</td>\n",
              "    </tr>\n",
              "    <tr>\n",
              "      <th>1458</th>\n",
              "      <td>9717</td>\n",
              "      <td>5</td>\n",
              "      <td>6</td>\n",
              "      <td>1078</td>\n",
              "      <td>1</td>\n",
              "      <td>0</td>\n",
              "      <td>2</td>\n",
              "      <td>5</td>\n",
              "      <td>0</td>\n",
              "      <td>240</td>\n",
              "      <td>0</td>\n",
              "    </tr>\n",
              "    <tr>\n",
              "      <th>1459</th>\n",
              "      <td>9937</td>\n",
              "      <td>5</td>\n",
              "      <td>6</td>\n",
              "      <td>1256</td>\n",
              "      <td>1</td>\n",
              "      <td>1</td>\n",
              "      <td>3</td>\n",
              "      <td>6</td>\n",
              "      <td>0</td>\n",
              "      <td>276</td>\n",
              "      <td>0</td>\n",
              "    </tr>\n",
              "  </tbody>\n",
              "</table>\n",
              "<p>1460 rows × 11 columns</p>\n",
              "</div>"
            ],
            "text/plain": [
              "      LotArea  OverallQual  ...  GarageArea  AboveMedianPrice\n",
              "0        8450            7  ...         548                 1\n",
              "1        9600            6  ...         460                 1\n",
              "2       11250            7  ...         608                 1\n",
              "3        9550            7  ...         642                 0\n",
              "4       14260            8  ...         836                 1\n",
              "...       ...          ...  ...         ...               ...\n",
              "1455     7917            6  ...         460                 1\n",
              "1456    13175            6  ...         500                 1\n",
              "1457     9042            7  ...         252                 1\n",
              "1458     9717            5  ...         240                 0\n",
              "1459     9937            5  ...         276                 0\n",
              "\n",
              "[1460 rows x 11 columns]"
            ]
          },
          "metadata": {
            "tags": []
          },
          "execution_count": 5
        }
      ]
    },
    {
      "cell_type": "code",
      "metadata": {
        "id": "gYa1oS3_e0bt"
      },
      "source": [
        "dataset = df.values"
      ],
      "execution_count": 6,
      "outputs": []
    },
    {
      "cell_type": "code",
      "metadata": {
        "colab": {
          "base_uri": "https://localhost:8080/"
        },
        "id": "zEHkp8z9e34d",
        "outputId": "34bb9d8e-565a-448f-ae1b-485dfab62f0a"
      },
      "source": [
        "dataset"
      ],
      "execution_count": 7,
      "outputs": [
        {
          "output_type": "execute_result",
          "data": {
            "text/plain": [
              "array([[ 8450,     7,     5, ...,     0,   548,     1],\n",
              "       [ 9600,     6,     8, ...,     1,   460,     1],\n",
              "       [11250,     7,     5, ...,     1,   608,     1],\n",
              "       ...,\n",
              "       [ 9042,     7,     9, ...,     2,   252,     1],\n",
              "       [ 9717,     5,     6, ...,     0,   240,     0],\n",
              "       [ 9937,     5,     6, ...,     0,   276,     0]])"
            ]
          },
          "metadata": {
            "tags": []
          },
          "execution_count": 7
        }
      ]
    },
    {
      "cell_type": "code",
      "metadata": {
        "id": "BbcovGxfe6xT"
      },
      "source": [
        "X = dataset[:,0:10]\n",
        "Y = dataset[:,10]"
      ],
      "execution_count": 8,
      "outputs": []
    },
    {
      "cell_type": "code",
      "metadata": {
        "id": "Ab3EVTL2e-vc"
      },
      "source": [
        "from sklearn import preprocessing"
      ],
      "execution_count": 9,
      "outputs": []
    },
    {
      "cell_type": "code",
      "metadata": {
        "id": "-Q5ENhH3fBeP"
      },
      "source": [
        "min_max_scaler = preprocessing.MinMaxScaler()\n",
        "X_scale = min_max_scaler.fit_transform(X)"
      ],
      "execution_count": 10,
      "outputs": []
    },
    {
      "cell_type": "code",
      "metadata": {
        "colab": {
          "base_uri": "https://localhost:8080/"
        },
        "id": "TnZ8HsWZfEe1",
        "outputId": "5e3106d3-23f8-41ed-c32d-3ff1b4657cb1"
      },
      "source": [
        "X_scale"
      ],
      "execution_count": 11,
      "outputs": [
        {
          "output_type": "execute_result",
          "data": {
            "text/plain": [
              "array([[0.0334198 , 0.66666667, 0.5       , ..., 0.5       , 0.        ,\n",
              "        0.3864598 ],\n",
              "       [0.03879502, 0.55555556, 0.875     , ..., 0.33333333, 0.33333333,\n",
              "        0.32440056],\n",
              "       [0.04650728, 0.66666667, 0.5       , ..., 0.33333333, 0.33333333,\n",
              "        0.42877292],\n",
              "       ...,\n",
              "       [0.03618687, 0.66666667, 1.        , ..., 0.58333333, 0.66666667,\n",
              "        0.17771509],\n",
              "       [0.03934189, 0.44444444, 0.625     , ..., 0.25      , 0.        ,\n",
              "        0.16925247],\n",
              "       [0.04037019, 0.44444444, 0.625     , ..., 0.33333333, 0.        ,\n",
              "        0.19464034]])"
            ]
          },
          "metadata": {
            "tags": []
          },
          "execution_count": 11
        }
      ]
    },
    {
      "cell_type": "code",
      "metadata": {
        "id": "xzDvXtMofH_m"
      },
      "source": [
        "from sklearn.model_selection import train_test_split"
      ],
      "execution_count": 12,
      "outputs": []
    },
    {
      "cell_type": "code",
      "metadata": {
        "id": "xV5Jr69jfKp8"
      },
      "source": [
        "X_train, X_val_and_test, Y_train, Y_val_and_test = train_test_split(X_scale, Y, test_size=0.3)"
      ],
      "execution_count": 15,
      "outputs": []
    },
    {
      "cell_type": "code",
      "metadata": {
        "id": "JXA14avHfOz9"
      },
      "source": [
        "X_val, X_test, Y_val, Y_test = train_test_split(X_val_and_test, Y_val_and_test, test_size=0.5)"
      ],
      "execution_count": 14,
      "outputs": []
    },
    {
      "cell_type": "code",
      "metadata": {
        "colab": {
          "base_uri": "https://localhost:8080/"
        },
        "id": "w8cw9km8fUcj",
        "outputId": "9bb24ff1-a800-42e4-a6cf-777890f6b128"
      },
      "source": [
        "print(X_train.shape, X_val.shape, X_test.shape, Y_train.shape, Y_val.shape, Y_test.shape)"
      ],
      "execution_count": 16,
      "outputs": [
        {
          "output_type": "stream",
          "text": [
            "(1022, 10) (219, 10) (219, 10) (1022,) (219,) (219,)\n"
          ],
          "name": "stdout"
        }
      ]
    },
    {
      "cell_type": "code",
      "metadata": {
        "id": "TKh-QTIDfSoh"
      },
      "source": [
        "from keras.models import Sequential\n",
        "from keras.layers import Dense"
      ],
      "execution_count": 17,
      "outputs": []
    },
    {
      "cell_type": "code",
      "metadata": {
        "id": "7-pmueOofdNi"
      },
      "source": [
        "model = Sequential([\n",
        "    Dense(32, activation='relu', input_shape=(10,)),\n",
        "    Dense(32, activation='relu'),\n",
        "    Dense(1, activation='sigmoid'),\n",
        "])"
      ],
      "execution_count": 18,
      "outputs": []
    },
    {
      "cell_type": "code",
      "metadata": {
        "id": "bHF41l7jfgvx"
      },
      "source": [
        "model.compile(optimizer='sgd',\n",
        "              loss='binary_crossentropy',\n",
        "              metrics=['accuracy'])"
      ],
      "execution_count": 20,
      "outputs": []
    },
    {
      "cell_type": "code",
      "metadata": {
        "colab": {
          "base_uri": "https://localhost:8080/"
        },
        "id": "9E7aexDafj4C",
        "outputId": "00b3a9a2-146a-4f7c-aa12-e7904da0e5b4"
      },
      "source": [
        "hist = model.fit(X_train, Y_train,\n",
        "          batch_size=32, epochs=100,\n",
        "          validation_data=(X_val, Y_val))"
      ],
      "execution_count": 21,
      "outputs": [
        {
          "output_type": "stream",
          "text": [
            "Epoch 1/100\n",
            "32/32 [==============================] - 15s 18ms/step - loss: 0.6910 - accuracy: 0.5532 - val_loss: 0.6818 - val_accuracy: 0.6347\n",
            "Epoch 2/100\n",
            "32/32 [==============================] - 0s 2ms/step - loss: 0.6817 - accuracy: 0.6054 - val_loss: 0.6721 - val_accuracy: 0.5297\n",
            "Epoch 3/100\n",
            "32/32 [==============================] - 0s 2ms/step - loss: 0.6755 - accuracy: 0.5088 - val_loss: 0.6642 - val_accuracy: 0.5251\n",
            "Epoch 4/100\n",
            "32/32 [==============================] - 0s 3ms/step - loss: 0.6665 - accuracy: 0.5225 - val_loss: 0.6581 - val_accuracy: 0.5342\n",
            "Epoch 5/100\n",
            "32/32 [==============================] - 0s 2ms/step - loss: 0.6570 - accuracy: 0.5351 - val_loss: 0.6526 - val_accuracy: 0.5525\n",
            "Epoch 6/100\n",
            "32/32 [==============================] - 0s 2ms/step - loss: 0.6581 - accuracy: 0.5409 - val_loss: 0.6470 - val_accuracy: 0.5708\n",
            "Epoch 7/100\n",
            "32/32 [==============================] - 0s 3ms/step - loss: 0.6481 - accuracy: 0.5944 - val_loss: 0.6416 - val_accuracy: 0.6301\n",
            "Epoch 8/100\n",
            "32/32 [==============================] - 0s 3ms/step - loss: 0.6449 - accuracy: 0.6319 - val_loss: 0.6362 - val_accuracy: 0.6804\n",
            "Epoch 9/100\n",
            "32/32 [==============================] - 0s 3ms/step - loss: 0.6389 - accuracy: 0.6704 - val_loss: 0.6307 - val_accuracy: 0.7215\n",
            "Epoch 10/100\n",
            "32/32 [==============================] - 0s 2ms/step - loss: 0.6348 - accuracy: 0.6745 - val_loss: 0.6250 - val_accuracy: 0.7352\n",
            "Epoch 11/100\n",
            "32/32 [==============================] - 0s 2ms/step - loss: 0.6264 - accuracy: 0.6990 - val_loss: 0.6192 - val_accuracy: 0.7489\n",
            "Epoch 12/100\n",
            "32/32 [==============================] - 0s 2ms/step - loss: 0.6193 - accuracy: 0.7218 - val_loss: 0.6131 - val_accuracy: 0.7763\n",
            "Epoch 13/100\n",
            "32/32 [==============================] - 0s 2ms/step - loss: 0.6220 - accuracy: 0.7333 - val_loss: 0.6068 - val_accuracy: 0.7854\n",
            "Epoch 14/100\n",
            "32/32 [==============================] - 0s 3ms/step - loss: 0.6114 - accuracy: 0.7539 - val_loss: 0.6005 - val_accuracy: 0.7991\n",
            "Epoch 15/100\n",
            "32/32 [==============================] - 0s 2ms/step - loss: 0.6118 - accuracy: 0.7295 - val_loss: 0.5939 - val_accuracy: 0.7991\n",
            "Epoch 16/100\n",
            "32/32 [==============================] - 0s 3ms/step - loss: 0.5966 - accuracy: 0.7690 - val_loss: 0.5873 - val_accuracy: 0.8037\n",
            "Epoch 17/100\n",
            "32/32 [==============================] - 0s 2ms/step - loss: 0.5968 - accuracy: 0.7760 - val_loss: 0.5804 - val_accuracy: 0.8311\n",
            "Epoch 18/100\n",
            "32/32 [==============================] - 0s 2ms/step - loss: 0.5840 - accuracy: 0.7852 - val_loss: 0.5736 - val_accuracy: 0.8356\n",
            "Epoch 19/100\n",
            "32/32 [==============================] - 0s 2ms/step - loss: 0.5754 - accuracy: 0.8027 - val_loss: 0.5666 - val_accuracy: 0.8356\n",
            "Epoch 20/100\n",
            "32/32 [==============================] - 0s 2ms/step - loss: 0.5781 - accuracy: 0.7974 - val_loss: 0.5589 - val_accuracy: 0.8356\n",
            "Epoch 21/100\n",
            "32/32 [==============================] - 0s 2ms/step - loss: 0.5664 - accuracy: 0.8101 - val_loss: 0.5519 - val_accuracy: 0.8493\n",
            "Epoch 22/100\n",
            "32/32 [==============================] - 0s 2ms/step - loss: 0.5654 - accuracy: 0.8076 - val_loss: 0.5438 - val_accuracy: 0.8402\n",
            "Epoch 23/100\n",
            "32/32 [==============================] - 0s 2ms/step - loss: 0.5503 - accuracy: 0.8110 - val_loss: 0.5364 - val_accuracy: 0.8584\n",
            "Epoch 24/100\n",
            "32/32 [==============================] - 0s 3ms/step - loss: 0.5472 - accuracy: 0.8147 - val_loss: 0.5283 - val_accuracy: 0.8630\n",
            "Epoch 25/100\n",
            "32/32 [==============================] - 0s 2ms/step - loss: 0.5283 - accuracy: 0.8374 - val_loss: 0.5208 - val_accuracy: 0.8584\n",
            "Epoch 26/100\n",
            "32/32 [==============================] - 0s 2ms/step - loss: 0.5377 - accuracy: 0.8313 - val_loss: 0.5125 - val_accuracy: 0.8584\n",
            "Epoch 27/100\n",
            "32/32 [==============================] - 0s 3ms/step - loss: 0.5180 - accuracy: 0.8366 - val_loss: 0.5042 - val_accuracy: 0.8584\n",
            "Epoch 28/100\n",
            "32/32 [==============================] - 0s 2ms/step - loss: 0.5077 - accuracy: 0.8529 - val_loss: 0.4962 - val_accuracy: 0.8630\n",
            "Epoch 29/100\n",
            "32/32 [==============================] - 0s 2ms/step - loss: 0.5058 - accuracy: 0.8326 - val_loss: 0.4890 - val_accuracy: 0.8721\n",
            "Epoch 30/100\n",
            "32/32 [==============================] - 0s 2ms/step - loss: 0.5036 - accuracy: 0.8350 - val_loss: 0.4799 - val_accuracy: 0.8630\n",
            "Epoch 31/100\n",
            "32/32 [==============================] - 0s 2ms/step - loss: 0.4900 - accuracy: 0.8546 - val_loss: 0.4723 - val_accuracy: 0.8676\n",
            "Epoch 32/100\n",
            "32/32 [==============================] - 0s 3ms/step - loss: 0.4845 - accuracy: 0.8461 - val_loss: 0.4652 - val_accuracy: 0.8721\n",
            "Epoch 33/100\n",
            "32/32 [==============================] - 0s 3ms/step - loss: 0.4782 - accuracy: 0.8241 - val_loss: 0.4570 - val_accuracy: 0.8676\n",
            "Epoch 34/100\n",
            "32/32 [==============================] - 0s 3ms/step - loss: 0.4575 - accuracy: 0.8709 - val_loss: 0.4496 - val_accuracy: 0.8721\n",
            "Epoch 35/100\n",
            "32/32 [==============================] - 0s 3ms/step - loss: 0.4653 - accuracy: 0.8496 - val_loss: 0.4420 - val_accuracy: 0.8676\n",
            "Epoch 36/100\n",
            "32/32 [==============================] - 0s 2ms/step - loss: 0.4628 - accuracy: 0.8485 - val_loss: 0.4350 - val_accuracy: 0.8676\n",
            "Epoch 37/100\n",
            "32/32 [==============================] - 0s 2ms/step - loss: 0.4474 - accuracy: 0.8389 - val_loss: 0.4280 - val_accuracy: 0.8676\n",
            "Epoch 38/100\n",
            "32/32 [==============================] - 0s 2ms/step - loss: 0.4384 - accuracy: 0.8530 - val_loss: 0.4212 - val_accuracy: 0.8721\n",
            "Epoch 39/100\n",
            "32/32 [==============================] - 0s 3ms/step - loss: 0.4322 - accuracy: 0.8599 - val_loss: 0.4142 - val_accuracy: 0.8676\n",
            "Epoch 40/100\n",
            "32/32 [==============================] - 0s 2ms/step - loss: 0.4306 - accuracy: 0.8531 - val_loss: 0.4078 - val_accuracy: 0.8676\n",
            "Epoch 41/100\n",
            "32/32 [==============================] - 0s 2ms/step - loss: 0.4400 - accuracy: 0.8360 - val_loss: 0.4009 - val_accuracy: 0.8676\n",
            "Epoch 42/100\n",
            "32/32 [==============================] - 0s 2ms/step - loss: 0.4248 - accuracy: 0.8617 - val_loss: 0.3966 - val_accuracy: 0.8721\n",
            "Epoch 43/100\n",
            "32/32 [==============================] - 0s 2ms/step - loss: 0.4149 - accuracy: 0.8562 - val_loss: 0.3907 - val_accuracy: 0.8767\n",
            "Epoch 44/100\n",
            "32/32 [==============================] - 0s 2ms/step - loss: 0.4112 - accuracy: 0.8593 - val_loss: 0.3838 - val_accuracy: 0.8721\n",
            "Epoch 45/100\n",
            "32/32 [==============================] - 0s 2ms/step - loss: 0.3978 - accuracy: 0.8511 - val_loss: 0.3773 - val_accuracy: 0.8676\n",
            "Epoch 46/100\n",
            "32/32 [==============================] - 0s 2ms/step - loss: 0.3933 - accuracy: 0.8569 - val_loss: 0.3719 - val_accuracy: 0.8721\n",
            "Epoch 47/100\n",
            "32/32 [==============================] - 0s 2ms/step - loss: 0.3691 - accuracy: 0.8911 - val_loss: 0.3666 - val_accuracy: 0.8767\n",
            "Epoch 48/100\n",
            "32/32 [==============================] - 0s 2ms/step - loss: 0.3917 - accuracy: 0.8557 - val_loss: 0.3621 - val_accuracy: 0.8767\n",
            "Epoch 49/100\n",
            "32/32 [==============================] - 0s 2ms/step - loss: 0.3825 - accuracy: 0.8591 - val_loss: 0.3566 - val_accuracy: 0.8767\n",
            "Epoch 50/100\n",
            "32/32 [==============================] - 0s 3ms/step - loss: 0.3575 - accuracy: 0.8889 - val_loss: 0.3538 - val_accuracy: 0.8950\n",
            "Epoch 51/100\n",
            "32/32 [==============================] - 0s 2ms/step - loss: 0.3821 - accuracy: 0.8661 - val_loss: 0.3473 - val_accuracy: 0.8767\n",
            "Epoch 52/100\n",
            "32/32 [==============================] - 0s 2ms/step - loss: 0.3362 - accuracy: 0.8899 - val_loss: 0.3456 - val_accuracy: 0.8950\n",
            "Epoch 53/100\n",
            "32/32 [==============================] - 0s 2ms/step - loss: 0.3733 - accuracy: 0.8804 - val_loss: 0.3384 - val_accuracy: 0.8858\n",
            "Epoch 54/100\n",
            "32/32 [==============================] - 0s 2ms/step - loss: 0.3579 - accuracy: 0.8623 - val_loss: 0.3362 - val_accuracy: 0.8995\n",
            "Epoch 55/100\n",
            "32/32 [==============================] - 0s 2ms/step - loss: 0.3325 - accuracy: 0.8824 - val_loss: 0.3347 - val_accuracy: 0.8995\n",
            "Epoch 56/100\n",
            "32/32 [==============================] - 0s 2ms/step - loss: 0.3669 - accuracy: 0.8660 - val_loss: 0.3272 - val_accuracy: 0.8904\n",
            "Epoch 57/100\n",
            "32/32 [==============================] - 0s 2ms/step - loss: 0.3505 - accuracy: 0.8683 - val_loss: 0.3258 - val_accuracy: 0.8995\n",
            "Epoch 58/100\n",
            "32/32 [==============================] - 0s 2ms/step - loss: 0.3366 - accuracy: 0.8849 - val_loss: 0.3198 - val_accuracy: 0.8950\n",
            "Epoch 59/100\n",
            "32/32 [==============================] - 0s 2ms/step - loss: 0.3483 - accuracy: 0.8736 - val_loss: 0.3165 - val_accuracy: 0.8950\n",
            "Epoch 60/100\n",
            "32/32 [==============================] - 0s 3ms/step - loss: 0.3416 - accuracy: 0.8821 - val_loss: 0.3142 - val_accuracy: 0.9041\n",
            "Epoch 61/100\n",
            "32/32 [==============================] - 0s 2ms/step - loss: 0.3318 - accuracy: 0.8736 - val_loss: 0.3096 - val_accuracy: 0.8950\n",
            "Epoch 62/100\n",
            "32/32 [==============================] - 0s 2ms/step - loss: 0.3239 - accuracy: 0.8797 - val_loss: 0.3093 - val_accuracy: 0.8995\n",
            "Epoch 63/100\n",
            "32/32 [==============================] - 0s 2ms/step - loss: 0.3262 - accuracy: 0.8860 - val_loss: 0.3049 - val_accuracy: 0.9041\n",
            "Epoch 64/100\n",
            "32/32 [==============================] - 0s 2ms/step - loss: 0.3329 - accuracy: 0.8817 - val_loss: 0.3018 - val_accuracy: 0.8995\n",
            "Epoch 65/100\n",
            "32/32 [==============================] - 0s 2ms/step - loss: 0.3162 - accuracy: 0.8880 - val_loss: 0.3019 - val_accuracy: 0.8995\n",
            "Epoch 66/100\n",
            "32/32 [==============================] - 0s 2ms/step - loss: 0.3202 - accuracy: 0.8748 - val_loss: 0.2958 - val_accuracy: 0.8950\n",
            "Epoch 67/100\n",
            "32/32 [==============================] - 0s 2ms/step - loss: 0.3414 - accuracy: 0.8624 - val_loss: 0.2937 - val_accuracy: 0.8950\n",
            "Epoch 68/100\n",
            "32/32 [==============================] - 0s 3ms/step - loss: 0.3327 - accuracy: 0.8714 - val_loss: 0.2939 - val_accuracy: 0.8995\n",
            "Epoch 69/100\n",
            "32/32 [==============================] - 0s 2ms/step - loss: 0.3189 - accuracy: 0.8785 - val_loss: 0.2914 - val_accuracy: 0.8995\n",
            "Epoch 70/100\n",
            "32/32 [==============================] - 0s 2ms/step - loss: 0.3177 - accuracy: 0.8715 - val_loss: 0.2891 - val_accuracy: 0.8995\n",
            "Epoch 71/100\n",
            "32/32 [==============================] - 0s 2ms/step - loss: 0.3209 - accuracy: 0.8791 - val_loss: 0.2885 - val_accuracy: 0.8950\n",
            "Epoch 72/100\n",
            "32/32 [==============================] - 0s 2ms/step - loss: 0.3145 - accuracy: 0.8810 - val_loss: 0.2860 - val_accuracy: 0.8950\n",
            "Epoch 73/100\n",
            "32/32 [==============================] - 0s 2ms/step - loss: 0.2858 - accuracy: 0.8983 - val_loss: 0.2823 - val_accuracy: 0.8995\n",
            "Epoch 74/100\n",
            "32/32 [==============================] - 0s 3ms/step - loss: 0.3146 - accuracy: 0.8906 - val_loss: 0.2792 - val_accuracy: 0.8995\n",
            "Epoch 75/100\n",
            "32/32 [==============================] - 0s 2ms/step - loss: 0.3034 - accuracy: 0.8781 - val_loss: 0.2801 - val_accuracy: 0.8950\n",
            "Epoch 76/100\n",
            "32/32 [==============================] - 0s 2ms/step - loss: 0.3112 - accuracy: 0.8720 - val_loss: 0.2771 - val_accuracy: 0.8950\n",
            "Epoch 77/100\n",
            "32/32 [==============================] - 0s 3ms/step - loss: 0.3040 - accuracy: 0.8843 - val_loss: 0.2746 - val_accuracy: 0.9041\n",
            "Epoch 78/100\n",
            "32/32 [==============================] - 0s 2ms/step - loss: 0.3206 - accuracy: 0.8728 - val_loss: 0.2745 - val_accuracy: 0.8904\n",
            "Epoch 79/100\n",
            "32/32 [==============================] - 0s 2ms/step - loss: 0.3088 - accuracy: 0.8656 - val_loss: 0.2722 - val_accuracy: 0.8950\n",
            "Epoch 80/100\n",
            "32/32 [==============================] - 0s 3ms/step - loss: 0.2956 - accuracy: 0.8788 - val_loss: 0.2694 - val_accuracy: 0.8995\n",
            "Epoch 81/100\n",
            "32/32 [==============================] - 0s 2ms/step - loss: 0.3058 - accuracy: 0.8794 - val_loss: 0.2707 - val_accuracy: 0.8904\n",
            "Epoch 82/100\n",
            "32/32 [==============================] - 0s 2ms/step - loss: 0.2916 - accuracy: 0.8872 - val_loss: 0.2688 - val_accuracy: 0.8904\n",
            "Epoch 83/100\n",
            "32/32 [==============================] - 0s 2ms/step - loss: 0.2934 - accuracy: 0.8821 - val_loss: 0.2682 - val_accuracy: 0.8904\n",
            "Epoch 84/100\n",
            "32/32 [==============================] - 0s 2ms/step - loss: 0.2943 - accuracy: 0.8782 - val_loss: 0.2685 - val_accuracy: 0.8950\n",
            "Epoch 85/100\n",
            "32/32 [==============================] - 0s 3ms/step - loss: 0.2849 - accuracy: 0.8791 - val_loss: 0.2697 - val_accuracy: 0.8950\n",
            "Epoch 86/100\n",
            "32/32 [==============================] - 0s 2ms/step - loss: 0.2925 - accuracy: 0.8784 - val_loss: 0.2623 - val_accuracy: 0.8995\n",
            "Epoch 87/100\n",
            "32/32 [==============================] - 0s 3ms/step - loss: 0.2960 - accuracy: 0.8809 - val_loss: 0.2626 - val_accuracy: 0.8904\n",
            "Epoch 88/100\n",
            "32/32 [==============================] - 0s 2ms/step - loss: 0.2984 - accuracy: 0.8744 - val_loss: 0.2636 - val_accuracy: 0.8904\n",
            "Epoch 89/100\n",
            "32/32 [==============================] - 0s 3ms/step - loss: 0.3162 - accuracy: 0.8641 - val_loss: 0.2614 - val_accuracy: 0.8904\n",
            "Epoch 90/100\n",
            "32/32 [==============================] - 0s 2ms/step - loss: 0.2876 - accuracy: 0.8731 - val_loss: 0.2618 - val_accuracy: 0.8904\n",
            "Epoch 91/100\n",
            "32/32 [==============================] - 0s 3ms/step - loss: 0.2883 - accuracy: 0.8791 - val_loss: 0.2573 - val_accuracy: 0.8995\n",
            "Epoch 92/100\n",
            "32/32 [==============================] - 0s 2ms/step - loss: 0.2865 - accuracy: 0.8758 - val_loss: 0.2602 - val_accuracy: 0.8904\n",
            "Epoch 93/100\n",
            "32/32 [==============================] - 0s 3ms/step - loss: 0.2613 - accuracy: 0.9033 - val_loss: 0.2576 - val_accuracy: 0.8904\n",
            "Epoch 94/100\n",
            "32/32 [==============================] - 0s 2ms/step - loss: 0.2841 - accuracy: 0.8884 - val_loss: 0.2611 - val_accuracy: 0.8950\n",
            "Epoch 95/100\n",
            "32/32 [==============================] - 0s 3ms/step - loss: 0.2628 - accuracy: 0.8926 - val_loss: 0.2559 - val_accuracy: 0.8904\n",
            "Epoch 96/100\n",
            "32/32 [==============================] - 0s 3ms/step - loss: 0.2734 - accuracy: 0.8954 - val_loss: 0.2558 - val_accuracy: 0.8904\n",
            "Epoch 97/100\n",
            "32/32 [==============================] - 0s 3ms/step - loss: 0.2719 - accuracy: 0.8803 - val_loss: 0.2523 - val_accuracy: 0.8950\n",
            "Epoch 98/100\n",
            "32/32 [==============================] - 0s 2ms/step - loss: 0.2869 - accuracy: 0.8815 - val_loss: 0.2515 - val_accuracy: 0.8950\n",
            "Epoch 99/100\n",
            "32/32 [==============================] - 0s 2ms/step - loss: 0.2565 - accuracy: 0.9016 - val_loss: 0.2505 - val_accuracy: 0.8950\n",
            "Epoch 100/100\n",
            "32/32 [==============================] - 0s 2ms/step - loss: 0.2766 - accuracy: 0.8817 - val_loss: 0.2532 - val_accuracy: 0.8904\n"
          ],
          "name": "stdout"
        }
      ]
    },
    {
      "cell_type": "code",
      "metadata": {
        "colab": {
          "base_uri": "https://localhost:8080/"
        },
        "id": "SxrzoruLfuzL",
        "outputId": "28c145f8-3e7f-4500-8558-94f0f840bb5d"
      },
      "source": [
        "model.evaluate(X_test, Y_test)[1]"
      ],
      "execution_count": 22,
      "outputs": [
        {
          "output_type": "stream",
          "text": [
            "7/7 [==============================] - 0s 3ms/step - loss: 0.2631 - accuracy: 0.9132\n"
          ],
          "name": "stdout"
        },
        {
          "output_type": "execute_result",
          "data": {
            "text/plain": [
              "0.913241982460022"
            ]
          },
          "metadata": {
            "tags": []
          },
          "execution_count": 22
        }
      ]
    },
    {
      "cell_type": "code",
      "metadata": {
        "id": "tz83Vigafw-R"
      },
      "source": [
        "import matplotlib.pyplot as plt"
      ],
      "execution_count": 26,
      "outputs": []
    },
    {
      "cell_type": "code",
      "metadata": {
        "colab": {
          "base_uri": "https://localhost:8080/",
          "height": 295
        },
        "id": "1Fa_4ZZVfztL",
        "outputId": "58923f7c-21ec-406f-88a6-58f770add0b0"
      },
      "source": [
        "plt.plot(hist.history['loss'])\n",
        "plt.plot(hist.history['val_loss'])\n",
        "plt.title('Model loss')\n",
        "plt.ylabel('Loss')\n",
        "plt.xlabel('Epoch')\n",
        "plt.legend(['Train', 'Val'], loc='upper right')\n",
        "plt.show()"
      ],
      "execution_count": 24,
      "outputs": [
        {
          "output_type": "display_data",
          "data": {
            "image/png": "[encoded data removed]",
            "text/plain": [
              "<Figure size 432x288 with 1 Axes>"
            ]
          },
          "metadata": {
            "tags": [],
            "needs_background": "light"
          }
        }
      ]
    },
    {
      "cell_type": "code",
      "metadata": {
        "colab": {
          "base_uri": "https://localhost:8080/",
          "height": 295
        },
        "id": "C7MFdUN_f3Ji",
        "outputId": "9ed414d0-d01b-4537-81c5-6ed484491b1e"
      },
      "source": [
        "plt.plot(hist.history['accuracy'])\n",
        "plt.plot(hist.history['val_accuracy'])\n",
        "plt.title('Model accuracy')\n",
        "plt.ylabel('Accuracy')\n",
        "plt.xlabel('Epoch')\n",
        "plt.legend(['Train', 'Val'], loc='lower right')\n",
        "plt.show()"
      ],
      "execution_count": 31,
      "outputs": [
        {
          "output_type": "display_data",
          "data": {
            "image/png": "[encoded data removed]",
            "text/plain": [
              "<Figure size 432x288 with 1 Axes>"
            ]
          },
          "metadata": {
            "tags": [],
            "needs_background": "light"
          }
        }
      ]
    },
    {
      "cell_type": "code",
      "metadata": {
        "colab": {
          "base_uri": "https://localhost:8080/"
        },
        "id": "VL1x6Ug3g1pb",
        "outputId": "c163ff78-493c-4d91-b1b6-30c7a52dabae"
      },
      "source": [
        "model_2 = Sequential([\n",
        "    Dense(1000, activation='relu', input_shape=(10,)),\n",
        "    Dense(1000, activation='relu'),\n",
        "    Dense(1000, activation='relu'),\n",
        "    Dense(1000, activation='relu'),\n",
        "    Dense(1, activation='sigmoid'),\n",
        "])\n",
        "model_2.compile(optimizer='adam',\n",
        "              loss='binary_crossentropy',\n",
        "              metrics=['accuracy'])\n",
        "hist_2 = model_2.fit(X_train, Y_train,\n",
        "          batch_size=32, epochs=100,\n",
        "          validation_data=(X_val, Y_val))"
      ],
      "execution_count": 32,
      "outputs": [
        {
          "output_type": "stream",
          "text": [
            "Epoch 1/100\n",
            "32/32 [==============================] - 3s 49ms/step - loss: 0.5458 - accuracy: 0.6967 - val_loss: 0.2947 - val_accuracy: 0.8493\n",
            "Epoch 2/100\n",
            "32/32 [==============================] - 1s 39ms/step - loss: 0.3272 - accuracy: 0.8509 - val_loss: 0.2708 - val_accuracy: 0.9041\n",
            "Epoch 3/100\n",
            "32/32 [==============================] - 1s 38ms/step - loss: 0.3378 - accuracy: 0.8751 - val_loss: 0.2706 - val_accuracy: 0.9041\n",
            "Epoch 4/100\n",
            "32/32 [==============================] - 1s 38ms/step - loss: 0.3169 - accuracy: 0.8637 - val_loss: 0.2448 - val_accuracy: 0.8904\n",
            "Epoch 5/100\n",
            "32/32 [==============================] - 1s 38ms/step - loss: 0.2369 - accuracy: 0.8969 - val_loss: 0.2113 - val_accuracy: 0.9224\n",
            "Epoch 6/100\n",
            "32/32 [==============================] - 1s 38ms/step - loss: 0.2318 - accuracy: 0.8965 - val_loss: 0.2270 - val_accuracy: 0.9087\n",
            "Epoch 7/100\n",
            "32/32 [==============================] - 1s 39ms/step - loss: 0.2489 - accuracy: 0.8983 - val_loss: 0.1883 - val_accuracy: 0.9087\n",
            "Epoch 8/100\n",
            "32/32 [==============================] - 1s 38ms/step - loss: 0.2206 - accuracy: 0.9135 - val_loss: 0.2154 - val_accuracy: 0.9224\n",
            "Epoch 9/100\n",
            "32/32 [==============================] - 1s 39ms/step - loss: 0.2338 - accuracy: 0.8893 - val_loss: 0.1908 - val_accuracy: 0.9178\n",
            "Epoch 10/100\n",
            "32/32 [==============================] - 1s 40ms/step - loss: 0.2333 - accuracy: 0.9078 - val_loss: 0.1844 - val_accuracy: 0.9269\n",
            "Epoch 11/100\n",
            "32/32 [==============================] - 1s 39ms/step - loss: 0.2337 - accuracy: 0.9101 - val_loss: 0.2156 - val_accuracy: 0.8813\n",
            "Epoch 12/100\n",
            "32/32 [==============================] - 1s 40ms/step - loss: 0.2208 - accuracy: 0.9181 - val_loss: 0.1879 - val_accuracy: 0.9087\n",
            "Epoch 13/100\n",
            "32/32 [==============================] - 1s 40ms/step - loss: 0.2258 - accuracy: 0.8921 - val_loss: 0.1860 - val_accuracy: 0.9315\n",
            "Epoch 14/100\n",
            "32/32 [==============================] - 1s 40ms/step - loss: 0.1965 - accuracy: 0.9147 - val_loss: 0.1628 - val_accuracy: 0.9269\n",
            "Epoch 15/100\n",
            "32/32 [==============================] - 1s 40ms/step - loss: 0.2079 - accuracy: 0.9093 - val_loss: 0.1655 - val_accuracy: 0.9178\n",
            "Epoch 16/100\n",
            "32/32 [==============================] - 1s 39ms/step - loss: 0.2119 - accuracy: 0.9107 - val_loss: 0.1798 - val_accuracy: 0.9178\n",
            "Epoch 17/100\n",
            "32/32 [==============================] - 1s 40ms/step - loss: 0.1971 - accuracy: 0.9109 - val_loss: 0.2185 - val_accuracy: 0.8858\n",
            "Epoch 18/100\n",
            "32/32 [==============================] - 1s 39ms/step - loss: 0.2314 - accuracy: 0.9020 - val_loss: 0.2089 - val_accuracy: 0.9132\n",
            "Epoch 19/100\n",
            "32/32 [==============================] - 1s 38ms/step - loss: 0.1985 - accuracy: 0.9291 - val_loss: 0.1968 - val_accuracy: 0.9041\n",
            "Epoch 20/100\n",
            "32/32 [==============================] - 1s 40ms/step - loss: 0.2236 - accuracy: 0.9009 - val_loss: 0.1591 - val_accuracy: 0.9315\n",
            "Epoch 21/100\n",
            "32/32 [==============================] - 1s 37ms/step - loss: 0.1772 - accuracy: 0.9276 - val_loss: 0.1553 - val_accuracy: 0.9452\n",
            "Epoch 22/100\n",
            "32/32 [==============================] - 1s 40ms/step - loss: 0.1984 - accuracy: 0.9177 - val_loss: 0.1469 - val_accuracy: 0.9361\n",
            "Epoch 23/100\n",
            "32/32 [==============================] - 1s 39ms/step - loss: 0.1775 - accuracy: 0.9218 - val_loss: 0.1738 - val_accuracy: 0.9178\n",
            "Epoch 24/100\n",
            "32/32 [==============================] - 1s 39ms/step - loss: 0.1840 - accuracy: 0.9206 - val_loss: 0.1713 - val_accuracy: 0.9087\n",
            "Epoch 25/100\n",
            "32/32 [==============================] - 1s 39ms/step - loss: 0.1698 - accuracy: 0.9281 - val_loss: 0.2159 - val_accuracy: 0.9087\n",
            "Epoch 26/100\n",
            "32/32 [==============================] - 1s 39ms/step - loss: 0.2099 - accuracy: 0.9059 - val_loss: 0.1606 - val_accuracy: 0.9406\n",
            "Epoch 27/100\n",
            "32/32 [==============================] - 1s 40ms/step - loss: 0.1773 - accuracy: 0.9299 - val_loss: 0.1634 - val_accuracy: 0.9224\n",
            "Epoch 28/100\n",
            "32/32 [==============================] - 1s 39ms/step - loss: 0.2048 - accuracy: 0.9116 - val_loss: 0.1548 - val_accuracy: 0.9224\n",
            "Epoch 29/100\n",
            "32/32 [==============================] - 1s 38ms/step - loss: 0.1825 - accuracy: 0.9264 - val_loss: 0.1552 - val_accuracy: 0.9315\n",
            "Epoch 30/100\n",
            "32/32 [==============================] - 1s 40ms/step - loss: 0.1845 - accuracy: 0.9185 - val_loss: 0.1510 - val_accuracy: 0.9269\n",
            "Epoch 31/100\n",
            "32/32 [==============================] - 1s 40ms/step - loss: 0.1928 - accuracy: 0.9161 - val_loss: 0.1954 - val_accuracy: 0.8995\n",
            "Epoch 32/100\n",
            "32/32 [==============================] - 1s 40ms/step - loss: 0.2177 - accuracy: 0.9163 - val_loss: 0.1634 - val_accuracy: 0.9178\n",
            "Epoch 33/100\n",
            "32/32 [==============================] - 1s 41ms/step - loss: 0.1871 - accuracy: 0.9193 - val_loss: 0.1738 - val_accuracy: 0.9224\n",
            "Epoch 34/100\n",
            "32/32 [==============================] - 1s 39ms/step - loss: 0.1795 - accuracy: 0.9295 - val_loss: 0.2097 - val_accuracy: 0.9041\n",
            "Epoch 35/100\n",
            "32/32 [==============================] - 1s 39ms/step - loss: 0.1919 - accuracy: 0.9155 - val_loss: 0.1662 - val_accuracy: 0.9406\n",
            "Epoch 36/100\n",
            "32/32 [==============================] - 1s 40ms/step - loss: 0.1861 - accuracy: 0.9157 - val_loss: 0.1558 - val_accuracy: 0.9406\n",
            "Epoch 37/100\n",
            "32/32 [==============================] - 1s 40ms/step - loss: 0.1673 - accuracy: 0.9253 - val_loss: 0.1728 - val_accuracy: 0.9269\n",
            "Epoch 38/100\n",
            "32/32 [==============================] - 1s 40ms/step - loss: 0.1642 - accuracy: 0.9388 - val_loss: 0.1611 - val_accuracy: 0.9361\n",
            "Epoch 39/100\n",
            "32/32 [==============================] - 1s 43ms/step - loss: 0.1739 - accuracy: 0.9233 - val_loss: 0.1812 - val_accuracy: 0.9269\n",
            "Epoch 40/100\n",
            "32/32 [==============================] - 1s 39ms/step - loss: 0.1550 - accuracy: 0.9308 - val_loss: 0.1877 - val_accuracy: 0.9178\n",
            "Epoch 41/100\n",
            "32/32 [==============================] - 1s 39ms/step - loss: 0.1613 - accuracy: 0.9265 - val_loss: 0.1670 - val_accuracy: 0.9315\n",
            "Epoch 42/100\n",
            "32/32 [==============================] - 1s 39ms/step - loss: 0.1618 - accuracy: 0.9306 - val_loss: 0.1584 - val_accuracy: 0.9178\n",
            "Epoch 43/100\n",
            "32/32 [==============================] - 1s 41ms/step - loss: 0.1750 - accuracy: 0.9288 - val_loss: 0.1756 - val_accuracy: 0.9269\n",
            "Epoch 44/100\n",
            "32/32 [==============================] - 1s 38ms/step - loss: 0.1697 - accuracy: 0.9290 - val_loss: 0.1660 - val_accuracy: 0.9498\n",
            "Epoch 45/100\n",
            "32/32 [==============================] - 1s 40ms/step - loss: 0.1692 - accuracy: 0.9346 - val_loss: 0.1564 - val_accuracy: 0.9361\n",
            "Epoch 46/100\n",
            "32/32 [==============================] - 1s 39ms/step - loss: 0.1499 - accuracy: 0.9291 - val_loss: 0.1738 - val_accuracy: 0.9269\n",
            "Epoch 47/100\n",
            "32/32 [==============================] - 1s 41ms/step - loss: 0.1582 - accuracy: 0.9368 - val_loss: 0.1482 - val_accuracy: 0.9406\n",
            "Epoch 48/100\n",
            "32/32 [==============================] - 1s 40ms/step - loss: 0.1554 - accuracy: 0.9384 - val_loss: 0.2100 - val_accuracy: 0.9041\n",
            "Epoch 49/100\n",
            "32/32 [==============================] - 1s 40ms/step - loss: 0.2036 - accuracy: 0.9027 - val_loss: 0.1626 - val_accuracy: 0.9269\n",
            "Epoch 50/100\n",
            "32/32 [==============================] - 1s 39ms/step - loss: 0.1744 - accuracy: 0.9251 - val_loss: 0.1906 - val_accuracy: 0.9041\n",
            "Epoch 51/100\n",
            "32/32 [==============================] - 1s 40ms/step - loss: 0.1701 - accuracy: 0.9286 - val_loss: 0.1700 - val_accuracy: 0.9406\n",
            "Epoch 52/100\n",
            "32/32 [==============================] - 1s 40ms/step - loss: 0.1701 - accuracy: 0.9308 - val_loss: 0.1511 - val_accuracy: 0.9269\n",
            "Epoch 53/100\n",
            "32/32 [==============================] - 1s 41ms/step - loss: 0.1829 - accuracy: 0.9200 - val_loss: 0.1724 - val_accuracy: 0.9178\n",
            "Epoch 54/100\n",
            "32/32 [==============================] - 1s 39ms/step - loss: 0.1343 - accuracy: 0.9441 - val_loss: 0.2266 - val_accuracy: 0.8995\n",
            "Epoch 55/100\n",
            "32/32 [==============================] - 1s 40ms/step - loss: 0.1728 - accuracy: 0.9278 - val_loss: 0.1914 - val_accuracy: 0.9269\n",
            "Epoch 56/100\n",
            "32/32 [==============================] - 1s 41ms/step - loss: 0.1665 - accuracy: 0.9347 - val_loss: 0.1620 - val_accuracy: 0.9361\n",
            "Epoch 57/100\n",
            "32/32 [==============================] - 1s 40ms/step - loss: 0.1506 - accuracy: 0.9426 - val_loss: 0.1975 - val_accuracy: 0.9087\n",
            "Epoch 58/100\n",
            "32/32 [==============================] - 1s 43ms/step - loss: 0.1594 - accuracy: 0.9298 - val_loss: 0.1569 - val_accuracy: 0.9269\n",
            "Epoch 59/100\n",
            "32/32 [==============================] - 1s 40ms/step - loss: 0.1533 - accuracy: 0.9296 - val_loss: 0.3478 - val_accuracy: 0.8767\n",
            "Epoch 60/100\n",
            "32/32 [==============================] - 1s 40ms/step - loss: 0.1879 - accuracy: 0.9225 - val_loss: 0.1961 - val_accuracy: 0.9132\n",
            "Epoch 61/100\n",
            "32/32 [==============================] - 1s 40ms/step - loss: 0.1387 - accuracy: 0.9359 - val_loss: 0.1508 - val_accuracy: 0.9498\n",
            "Epoch 62/100\n",
            "32/32 [==============================] - 1s 40ms/step - loss: 0.1570 - accuracy: 0.9341 - val_loss: 0.1428 - val_accuracy: 0.9269\n",
            "Epoch 63/100\n",
            "32/32 [==============================] - 1s 41ms/step - loss: 0.1391 - accuracy: 0.9353 - val_loss: 0.1358 - val_accuracy: 0.9361\n",
            "Epoch 64/100\n",
            "32/32 [==============================] - 1s 39ms/step - loss: 0.1245 - accuracy: 0.9475 - val_loss: 0.1560 - val_accuracy: 0.9315\n",
            "Epoch 65/100\n",
            "32/32 [==============================] - 1s 40ms/step - loss: 0.1583 - accuracy: 0.9295 - val_loss: 0.1684 - val_accuracy: 0.9269\n",
            "Epoch 66/100\n",
            "32/32 [==============================] - 1s 41ms/step - loss: 0.1229 - accuracy: 0.9460 - val_loss: 0.1795 - val_accuracy: 0.9087\n",
            "Epoch 67/100\n",
            "32/32 [==============================] - 1s 39ms/step - loss: 0.1364 - accuracy: 0.9478 - val_loss: 0.1567 - val_accuracy: 0.9178\n",
            "Epoch 68/100\n",
            "32/32 [==============================] - 1s 40ms/step - loss: 0.1376 - accuracy: 0.9328 - val_loss: 0.1620 - val_accuracy: 0.9406\n",
            "Epoch 69/100\n",
            "32/32 [==============================] - 1s 40ms/step - loss: 0.1766 - accuracy: 0.9329 - val_loss: 0.1753 - val_accuracy: 0.9269\n",
            "Epoch 70/100\n",
            "32/32 [==============================] - 1s 41ms/step - loss: 0.1372 - accuracy: 0.9353 - val_loss: 0.1788 - val_accuracy: 0.9224\n",
            "Epoch 71/100\n",
            "32/32 [==============================] - 1s 42ms/step - loss: 0.1040 - accuracy: 0.9476 - val_loss: 0.1500 - val_accuracy: 0.9269\n",
            "Epoch 72/100\n",
            "32/32 [==============================] - 1s 39ms/step - loss: 0.1358 - accuracy: 0.9399 - val_loss: 0.1594 - val_accuracy: 0.9315\n",
            "Epoch 73/100\n",
            "32/32 [==============================] - 1s 42ms/step - loss: 0.1702 - accuracy: 0.9219 - val_loss: 0.1361 - val_accuracy: 0.9315\n",
            "Epoch 74/100\n",
            "32/32 [==============================] - 1s 41ms/step - loss: 0.1379 - accuracy: 0.9362 - val_loss: 0.1577 - val_accuracy: 0.9224\n",
            "Epoch 75/100\n",
            "32/32 [==============================] - 1s 40ms/step - loss: 0.1384 - accuracy: 0.9406 - val_loss: 0.1631 - val_accuracy: 0.9315\n",
            "Epoch 76/100\n",
            "32/32 [==============================] - 1s 39ms/step - loss: 0.1251 - accuracy: 0.9490 - val_loss: 0.1462 - val_accuracy: 0.9224\n",
            "Epoch 77/100\n",
            "32/32 [==============================] - 1s 38ms/step - loss: 0.1376 - accuracy: 0.9365 - val_loss: 0.1740 - val_accuracy: 0.9178\n",
            "Epoch 78/100\n",
            "32/32 [==============================] - 1s 40ms/step - loss: 0.1209 - accuracy: 0.9395 - val_loss: 0.1505 - val_accuracy: 0.9361\n",
            "Epoch 79/100\n",
            "32/32 [==============================] - 1s 40ms/step - loss: 0.1197 - accuracy: 0.9445 - val_loss: 0.1525 - val_accuracy: 0.9406\n",
            "Epoch 80/100\n",
            "32/32 [==============================] - 1s 41ms/step - loss: 0.1045 - accuracy: 0.9573 - val_loss: 0.1739 - val_accuracy: 0.9452\n",
            "Epoch 81/100\n",
            "32/32 [==============================] - 1s 40ms/step - loss: 0.1259 - accuracy: 0.9360 - val_loss: 0.1667 - val_accuracy: 0.9178\n",
            "Epoch 82/100\n",
            "32/32 [==============================] - 1s 41ms/step - loss: 0.1231 - accuracy: 0.9517 - val_loss: 0.2146 - val_accuracy: 0.9087\n",
            "Epoch 83/100\n",
            "32/32 [==============================] - 1s 40ms/step - loss: 0.1719 - accuracy: 0.9342 - val_loss: 0.2385 - val_accuracy: 0.9041\n",
            "Epoch 84/100\n",
            "32/32 [==============================] - 1s 40ms/step - loss: 0.1803 - accuracy: 0.9264 - val_loss: 0.1649 - val_accuracy: 0.9315\n",
            "Epoch 85/100\n",
            "32/32 [==============================] - 1s 39ms/step - loss: 0.1390 - accuracy: 0.9391 - val_loss: 0.1604 - val_accuracy: 0.9315\n",
            "Epoch 86/100\n",
            "32/32 [==============================] - 1s 39ms/step - loss: 0.1319 - accuracy: 0.9437 - val_loss: 0.1484 - val_accuracy: 0.9452\n",
            "Epoch 87/100\n",
            "32/32 [==============================] - 1s 40ms/step - loss: 0.1365 - accuracy: 0.9410 - val_loss: 0.1467 - val_accuracy: 0.9224\n",
            "Epoch 88/100\n",
            "32/32 [==============================] - 1s 38ms/step - loss: 0.1123 - accuracy: 0.9532 - val_loss: 0.1559 - val_accuracy: 0.9269\n",
            "Epoch 89/100\n",
            "32/32 [==============================] - 1s 40ms/step - loss: 0.1551 - accuracy: 0.9334 - val_loss: 0.1482 - val_accuracy: 0.9452\n",
            "Epoch 90/100\n",
            "32/32 [==============================] - 1s 38ms/step - loss: 0.0993 - accuracy: 0.9567 - val_loss: 0.1548 - val_accuracy: 0.9406\n",
            "Epoch 91/100\n",
            "32/32 [==============================] - 1s 38ms/step - loss: 0.1009 - accuracy: 0.9563 - val_loss: 0.1614 - val_accuracy: 0.9406\n",
            "Epoch 92/100\n",
            "32/32 [==============================] - 1s 40ms/step - loss: 0.1525 - accuracy: 0.9380 - val_loss: 0.1575 - val_accuracy: 0.9452\n",
            "Epoch 93/100\n",
            "32/32 [==============================] - 1s 40ms/step - loss: 0.1235 - accuracy: 0.9513 - val_loss: 0.1583 - val_accuracy: 0.9315\n",
            "Epoch 94/100\n",
            "32/32 [==============================] - 1s 42ms/step - loss: 0.1087 - accuracy: 0.9503 - val_loss: 0.1410 - val_accuracy: 0.9452\n",
            "Epoch 95/100\n",
            "32/32 [==============================] - 1s 40ms/step - loss: 0.1366 - accuracy: 0.9423 - val_loss: 0.1757 - val_accuracy: 0.9178\n",
            "Epoch 96/100\n",
            "32/32 [==============================] - 1s 39ms/step - loss: 0.1329 - accuracy: 0.9410 - val_loss: 0.1485 - val_accuracy: 0.9361\n",
            "Epoch 97/100\n",
            "32/32 [==============================] - 1s 39ms/step - loss: 0.1381 - accuracy: 0.9413 - val_loss: 0.1506 - val_accuracy: 0.9406\n",
            "Epoch 98/100\n",
            "32/32 [==============================] - 1s 39ms/step - loss: 0.1113 - accuracy: 0.9526 - val_loss: 0.1568 - val_accuracy: 0.9315\n",
            "Epoch 99/100\n",
            "32/32 [==============================] - 1s 39ms/step - loss: 0.1079 - accuracy: 0.9585 - val_loss: 0.1477 - val_accuracy: 0.9315\n",
            "Epoch 100/100\n",
            "32/32 [==============================] - 1s 40ms/step - loss: 0.0942 - accuracy: 0.9581 - val_loss: 0.1509 - val_accuracy: 0.9498\n"
          ],
          "name": "stdout"
        }
      ]
    },
    {
      "cell_type": "code",
      "metadata": {
        "colab": {
          "base_uri": "https://localhost:8080/",
          "height": 295
        },
        "id": "JAfUGkTehaIb",
        "outputId": "958ea829-5720-46e2-8a2f-0868f1cc8123"
      },
      "source": [
        "plt.plot(hist_2.history['loss'])\n",
        "plt.plot(hist_2.history['val_loss'])\n",
        "plt.title('Model loss')\n",
        "plt.ylabel('Loss')\n",
        "plt.xlabel('Epoch')\n",
        "plt.legend(['Train', 'Val'], loc='upper right')\n",
        "plt.show()"
      ],
      "execution_count": 33,
      "outputs": [
        {
          "output_type": "display_data",
          "data": {
            "image/png": "[encoded data removed]",
            "text/plain": [
              "<Figure size 432x288 with 1 Axes>"
            ]
          },
          "metadata": {
            "tags": [],
            "needs_background": "light"
          }
        }
      ]
    },
    {
      "cell_type": "code",
      "metadata": {
        "colab": {
          "base_uri": "https://localhost:8080/",
          "height": 295
        },
        "id": "UNpabL-fhdHu",
        "outputId": "3499fff4-5848-417d-93f1-2ed1541f4656"
      },
      "source": [
        "plt.plot(hist_2.history['accuracy'])\n",
        "plt.plot(hist_2.history['val_accuracy'])\n",
        "plt.title('Model accuracy')\n",
        "plt.ylabel('Accuracy')\n",
        "plt.xlabel('Epoch')\n",
        "plt.legend(['Train', 'Val'], loc='lower right')\n",
        "plt.show()"
      ],
      "execution_count": 35,
      "outputs": [
        {
          "output_type": "display_data",
          "data": {
            "image/png": "[encoded data removed]",
            "text/plain": [
              "<Figure size 432x288 with 1 Axes>"
            ]
          },
          "metadata": {
            "tags": [],
            "needs_background": "light"
          }
        }
      ]
    },
    {
      "cell_type": "code",
      "metadata": {
        "id": "C-MHhJswhipj"
      },
      "source": [
        "from keras.layers import Dropout\n",
        "from keras import regularizers"
      ],
      "execution_count": 36,
      "outputs": []
    },
    {
      "cell_type": "code",
      "metadata": {
        "id": "EXgoIdL_hloP"
      },
      "source": [
        "model_3 = Sequential([\n",
        "    Dense(1000, activation='relu', kernel_regularizer=regularizers.l2(0.01), input_shape=(10,)),\n",
        "    Dropout(0.3),\n",
        "    Dense(1000, activation='relu', kernel_regularizer=regularizers.l2(0.01)),\n",
        "    Dropout(0.3),\n",
        "    Dense(1000, activation='relu', kernel_regularizer=regularizers.l2(0.01)),\n",
        "    Dropout(0.3),\n",
        "    Dense(1000, activation='relu', kernel_regularizer=regularizers.l2(0.01)),\n",
        "    Dropout(0.3),\n",
        "    Dense(1, activation='sigmoid', kernel_regularizer=regularizers.l2(0.01)),\n",
        "])"
      ],
      "execution_count": 37,
      "outputs": []
    },
    {
      "cell_type": "code",
      "metadata": {
        "colab": {
          "base_uri": "https://localhost:8080/"
        },
        "id": "WZW8Y86ahn_J",
        "outputId": "23a79cb5-d136-498e-afe3-d53fdee9ee5b"
      },
      "source": [
        "model_3.compile(optimizer='adam',\n",
        "              loss='binary_crossentropy',\n",
        "              metrics=['accuracy'])\n",
        "hist_3 = model_3.fit(X_train, Y_train,\n",
        "          batch_size=32, epochs=100,\n",
        "          validation_data=(X_val, Y_val))"
      ],
      "execution_count": 38,
      "outputs": [
        {
          "output_type": "stream",
          "text": [
            "Epoch 1/100\n",
            "32/32 [==============================] - 4s 68ms/step - loss: 21.0975 - accuracy: 0.5307 - val_loss: 3.8623 - val_accuracy: 0.8402\n",
            "Epoch 2/100\n",
            "32/32 [==============================] - 2s 52ms/step - loss: 2.4952 - accuracy: 0.8316 - val_loss: 0.6677 - val_accuracy: 0.8676\n",
            "Epoch 3/100\n",
            "32/32 [==============================] - 2s 54ms/step - loss: 0.6077 - accuracy: 0.8692 - val_loss: 0.5010 - val_accuracy: 0.8995\n",
            "Epoch 4/100\n",
            "32/32 [==============================] - 2s 54ms/step - loss: 0.5146 - accuracy: 0.8638 - val_loss: 0.4577 - val_accuracy: 0.8995\n",
            "Epoch 5/100\n",
            "32/32 [==============================] - 2s 53ms/step - loss: 0.5086 - accuracy: 0.8574 - val_loss: 0.4439 - val_accuracy: 0.8995\n",
            "Epoch 6/100\n",
            "32/32 [==============================] - 2s 53ms/step - loss: 0.4780 - accuracy: 0.8676 - val_loss: 0.4450 - val_accuracy: 0.8858\n",
            "Epoch 7/100\n",
            "32/32 [==============================] - 2s 52ms/step - loss: 0.4664 - accuracy: 0.8826 - val_loss: 0.4790 - val_accuracy: 0.8950\n",
            "Epoch 8/100\n",
            "32/32 [==============================] - 2s 52ms/step - loss: 0.4511 - accuracy: 0.8860 - val_loss: 0.4159 - val_accuracy: 0.8995\n",
            "Epoch 9/100\n",
            "32/32 [==============================] - 2s 54ms/step - loss: 0.4923 - accuracy: 0.8596 - val_loss: 0.4240 - val_accuracy: 0.8995\n",
            "Epoch 10/100\n",
            "32/32 [==============================] - 2s 56ms/step - loss: 0.4553 - accuracy: 0.8812 - val_loss: 0.4139 - val_accuracy: 0.8950\n",
            "Epoch 11/100\n",
            "32/32 [==============================] - 2s 59ms/step - loss: 0.4542 - accuracy: 0.8890 - val_loss: 0.4084 - val_accuracy: 0.9087\n",
            "Epoch 12/100\n",
            "32/32 [==============================] - 2s 54ms/step - loss: 0.4797 - accuracy: 0.8710 - val_loss: 0.4391 - val_accuracy: 0.8950\n",
            "Epoch 13/100\n",
            "32/32 [==============================] - 2s 53ms/step - loss: 0.4857 - accuracy: 0.8611 - val_loss: 0.4007 - val_accuracy: 0.9087\n",
            "Epoch 14/100\n",
            "32/32 [==============================] - 2s 52ms/step - loss: 0.4217 - accuracy: 0.9102 - val_loss: 0.3991 - val_accuracy: 0.9087\n",
            "Epoch 15/100\n",
            "32/32 [==============================] - 2s 54ms/step - loss: 0.4593 - accuracy: 0.8814 - val_loss: 0.4026 - val_accuracy: 0.9041\n",
            "Epoch 16/100\n",
            "32/32 [==============================] - 2s 53ms/step - loss: 0.4415 - accuracy: 0.8816 - val_loss: 0.4130 - val_accuracy: 0.8995\n",
            "Epoch 17/100\n",
            "32/32 [==============================] - 2s 52ms/step - loss: 0.4361 - accuracy: 0.8875 - val_loss: 0.4020 - val_accuracy: 0.9087\n",
            "Epoch 18/100\n",
            "32/32 [==============================] - 2s 52ms/step - loss: 0.4318 - accuracy: 0.8813 - val_loss: 0.4511 - val_accuracy: 0.8676\n",
            "Epoch 19/100\n",
            "32/32 [==============================] - 2s 54ms/step - loss: 0.4291 - accuracy: 0.8939 - val_loss: 0.3986 - val_accuracy: 0.8995\n",
            "Epoch 20/100\n",
            "32/32 [==============================] - 2s 56ms/step - loss: 0.4516 - accuracy: 0.8795 - val_loss: 0.4005 - val_accuracy: 0.8950\n",
            "Epoch 21/100\n",
            "32/32 [==============================] - 2s 55ms/step - loss: 0.4348 - accuracy: 0.8800 - val_loss: 0.3960 - val_accuracy: 0.8950\n",
            "Epoch 22/100\n",
            "32/32 [==============================] - 2s 52ms/step - loss: 0.4518 - accuracy: 0.8788 - val_loss: 0.4064 - val_accuracy: 0.8950\n",
            "Epoch 23/100\n",
            "32/32 [==============================] - 2s 52ms/step - loss: 0.4542 - accuracy: 0.8738 - val_loss: 0.4198 - val_accuracy: 0.8950\n",
            "Epoch 24/100\n",
            "32/32 [==============================] - 2s 52ms/step - loss: 0.4270 - accuracy: 0.8940 - val_loss: 0.3984 - val_accuracy: 0.9087\n",
            "Epoch 25/100\n",
            "32/32 [==============================] - 2s 53ms/step - loss: 0.4203 - accuracy: 0.9028 - val_loss: 0.3978 - val_accuracy: 0.9087\n",
            "Epoch 26/100\n",
            "32/32 [==============================] - 2s 53ms/step - loss: 0.4270 - accuracy: 0.9012 - val_loss: 0.4014 - val_accuracy: 0.8995\n",
            "Epoch 27/100\n",
            "32/32 [==============================] - 2s 51ms/step - loss: 0.4203 - accuracy: 0.8993 - val_loss: 0.3966 - val_accuracy: 0.8904\n",
            "Epoch 28/100\n",
            "32/32 [==============================] - 2s 51ms/step - loss: 0.4656 - accuracy: 0.8833 - val_loss: 0.4231 - val_accuracy: 0.8995\n",
            "Epoch 29/100\n",
            "32/32 [==============================] - 2s 53ms/step - loss: 0.4674 - accuracy: 0.8757 - val_loss: 0.4045 - val_accuracy: 0.8858\n",
            "Epoch 30/100\n",
            "32/32 [==============================] - 2s 53ms/step - loss: 0.4131 - accuracy: 0.8937 - val_loss: 0.4283 - val_accuracy: 0.8858\n",
            "Epoch 31/100\n",
            "32/32 [==============================] - 2s 52ms/step - loss: 0.4284 - accuracy: 0.8862 - val_loss: 0.4725 - val_accuracy: 0.8813\n",
            "Epoch 32/100\n",
            "32/32 [==============================] - 2s 52ms/step - loss: 0.4365 - accuracy: 0.8909 - val_loss: 0.3980 - val_accuracy: 0.8950\n",
            "Epoch 33/100\n",
            "32/32 [==============================] - 2s 53ms/step - loss: 0.4261 - accuracy: 0.8847 - val_loss: 0.4137 - val_accuracy: 0.8950\n",
            "Epoch 34/100\n",
            "32/32 [==============================] - 2s 54ms/step - loss: 0.4489 - accuracy: 0.8729 - val_loss: 0.4463 - val_accuracy: 0.8721\n",
            "Epoch 35/100\n",
            "32/32 [==============================] - 2s 54ms/step - loss: 0.4670 - accuracy: 0.8689 - val_loss: 0.4625 - val_accuracy: 0.8721\n",
            "Epoch 36/100\n",
            "32/32 [==============================] - 2s 53ms/step - loss: 0.4317 - accuracy: 0.8914 - val_loss: 0.3900 - val_accuracy: 0.9041\n",
            "Epoch 37/100\n",
            "32/32 [==============================] - 2s 52ms/step - loss: 0.4409 - accuracy: 0.8865 - val_loss: 0.3885 - val_accuracy: 0.9132\n",
            "Epoch 38/100\n",
            "32/32 [==============================] - 2s 52ms/step - loss: 0.4479 - accuracy: 0.8719 - val_loss: 0.3869 - val_accuracy: 0.9132\n",
            "Epoch 39/100\n",
            "32/32 [==============================] - 2s 53ms/step - loss: 0.4289 - accuracy: 0.8948 - val_loss: 0.3918 - val_accuracy: 0.9087\n",
            "Epoch 40/100\n",
            "32/32 [==============================] - 2s 54ms/step - loss: 0.4323 - accuracy: 0.8796 - val_loss: 0.4015 - val_accuracy: 0.8995\n",
            "Epoch 41/100\n",
            "32/32 [==============================] - 2s 53ms/step - loss: 0.4457 - accuracy: 0.8961 - val_loss: 0.4137 - val_accuracy: 0.8950\n",
            "Epoch 42/100\n",
            "32/32 [==============================] - 2s 53ms/step - loss: 0.4365 - accuracy: 0.8877 - val_loss: 0.3898 - val_accuracy: 0.8995\n",
            "Epoch 43/100\n",
            "32/32 [==============================] - 2s 53ms/step - loss: 0.4198 - accuracy: 0.8857 - val_loss: 0.3902 - val_accuracy: 0.9041\n",
            "Epoch 44/100\n",
            "32/32 [==============================] - 2s 51ms/step - loss: 0.4174 - accuracy: 0.8986 - val_loss: 0.4036 - val_accuracy: 0.8858\n",
            "Epoch 45/100\n",
            "32/32 [==============================] - 2s 53ms/step - loss: 0.4230 - accuracy: 0.8850 - val_loss: 0.3896 - val_accuracy: 0.9178\n",
            "Epoch 46/100\n",
            "32/32 [==============================] - 2s 53ms/step - loss: 0.4520 - accuracy: 0.8697 - val_loss: 0.4092 - val_accuracy: 0.8950\n",
            "Epoch 47/100\n",
            "32/32 [==============================] - 2s 56ms/step - loss: 0.4705 - accuracy: 0.8619 - val_loss: 0.4279 - val_accuracy: 0.8858\n",
            "Epoch 48/100\n",
            "32/32 [==============================] - 2s 53ms/step - loss: 0.4525 - accuracy: 0.8723 - val_loss: 0.3902 - val_accuracy: 0.8950\n",
            "Epoch 49/100\n",
            "32/32 [==============================] - 2s 51ms/step - loss: 0.4392 - accuracy: 0.8824 - val_loss: 0.3943 - val_accuracy: 0.8995\n",
            "Epoch 50/100\n",
            "32/32 [==============================] - 2s 52ms/step - loss: 0.4327 - accuracy: 0.8906 - val_loss: 0.4005 - val_accuracy: 0.8813\n",
            "Epoch 51/100\n",
            "32/32 [==============================] - 2s 56ms/step - loss: 0.4719 - accuracy: 0.8614 - val_loss: 0.3905 - val_accuracy: 0.9132\n",
            "Epoch 52/100\n",
            "32/32 [==============================] - 2s 54ms/step - loss: 0.3966 - accuracy: 0.9110 - val_loss: 0.4297 - val_accuracy: 0.8813\n",
            "Epoch 53/100\n",
            "32/32 [==============================] - 2s 54ms/step - loss: 0.4661 - accuracy: 0.8607 - val_loss: 0.4758 - val_accuracy: 0.8767\n",
            "Epoch 54/100\n",
            "32/32 [==============================] - 2s 55ms/step - loss: 0.4933 - accuracy: 0.8511 - val_loss: 0.4106 - val_accuracy: 0.8950\n",
            "Epoch 55/100\n",
            "32/32 [==============================] - 2s 53ms/step - loss: 0.4351 - accuracy: 0.8873 - val_loss: 0.3987 - val_accuracy: 0.8995\n",
            "Epoch 56/100\n",
            "32/32 [==============================] - 2s 54ms/step - loss: 0.4286 - accuracy: 0.8772 - val_loss: 0.4042 - val_accuracy: 0.8858\n",
            "Epoch 57/100\n",
            "32/32 [==============================] - 2s 54ms/step - loss: 0.4486 - accuracy: 0.8752 - val_loss: 0.3997 - val_accuracy: 0.8904\n",
            "Epoch 58/100\n",
            "32/32 [==============================] - 2s 54ms/step - loss: 0.4252 - accuracy: 0.8853 - val_loss: 0.3930 - val_accuracy: 0.9041\n",
            "Epoch 59/100\n",
            "32/32 [==============================] - 2s 52ms/step - loss: 0.4107 - accuracy: 0.9063 - val_loss: 0.4019 - val_accuracy: 0.8995\n",
            "Epoch 60/100\n",
            "32/32 [==============================] - 2s 52ms/step - loss: 0.4283 - accuracy: 0.8953 - val_loss: 0.4009 - val_accuracy: 0.8858\n",
            "Epoch 61/100\n",
            "32/32 [==============================] - 2s 51ms/step - loss: 0.4401 - accuracy: 0.8740 - val_loss: 0.3885 - val_accuracy: 0.8995\n",
            "Epoch 62/100\n",
            "32/32 [==============================] - 2s 54ms/step - loss: 0.4173 - accuracy: 0.8949 - val_loss: 0.3924 - val_accuracy: 0.8950\n",
            "Epoch 63/100\n",
            "32/32 [==============================] - 2s 52ms/step - loss: 0.4499 - accuracy: 0.8709 - val_loss: 0.4068 - val_accuracy: 0.8904\n",
            "Epoch 64/100\n",
            "32/32 [==============================] - 2s 53ms/step - loss: 0.4593 - accuracy: 0.8598 - val_loss: 0.3866 - val_accuracy: 0.9132\n",
            "Epoch 65/100\n",
            "32/32 [==============================] - 2s 54ms/step - loss: 0.4200 - accuracy: 0.8908 - val_loss: 0.3934 - val_accuracy: 0.8950\n",
            "Epoch 66/100\n",
            "32/32 [==============================] - 2s 54ms/step - loss: 0.4538 - accuracy: 0.8711 - val_loss: 0.4033 - val_accuracy: 0.8767\n",
            "Epoch 67/100\n",
            "32/32 [==============================] - 2s 52ms/step - loss: 0.4211 - accuracy: 0.8951 - val_loss: 0.4115 - val_accuracy: 0.8904\n",
            "Epoch 68/100\n",
            "32/32 [==============================] - 2s 54ms/step - loss: 0.4290 - accuracy: 0.8868 - val_loss: 0.4107 - val_accuracy: 0.8904\n",
            "Epoch 69/100\n",
            "32/32 [==============================] - 2s 53ms/step - loss: 0.4470 - accuracy: 0.8763 - val_loss: 0.3961 - val_accuracy: 0.8858\n",
            "Epoch 70/100\n",
            "32/32 [==============================] - 2s 52ms/step - loss: 0.4199 - accuracy: 0.8992 - val_loss: 0.3936 - val_accuracy: 0.9087\n",
            "Epoch 71/100\n",
            "32/32 [==============================] - 2s 52ms/step - loss: 0.4385 - accuracy: 0.8759 - val_loss: 0.3862 - val_accuracy: 0.9178\n",
            "Epoch 72/100\n",
            "32/32 [==============================] - 2s 53ms/step - loss: 0.4490 - accuracy: 0.8657 - val_loss: 0.4506 - val_accuracy: 0.8858\n",
            "Epoch 73/100\n",
            "32/32 [==============================] - 2s 52ms/step - loss: 0.4594 - accuracy: 0.8713 - val_loss: 0.3920 - val_accuracy: 0.9178\n",
            "Epoch 74/100\n",
            "32/32 [==============================] - 2s 56ms/step - loss: 0.4029 - accuracy: 0.9021 - val_loss: 0.3879 - val_accuracy: 0.9178\n",
            "Epoch 75/100\n",
            "32/32 [==============================] - 2s 52ms/step - loss: 0.4015 - accuracy: 0.9084 - val_loss: 0.3885 - val_accuracy: 0.9178\n",
            "Epoch 76/100\n",
            "32/32 [==============================] - 2s 53ms/step - loss: 0.4117 - accuracy: 0.8944 - val_loss: 0.3839 - val_accuracy: 0.9041\n",
            "Epoch 77/100\n",
            "32/32 [==============================] - 2s 54ms/step - loss: 0.4251 - accuracy: 0.8907 - val_loss: 0.4083 - val_accuracy: 0.8767\n",
            "Epoch 78/100\n",
            "32/32 [==============================] - 2s 54ms/step - loss: 0.4430 - accuracy: 0.8692 - val_loss: 0.3987 - val_accuracy: 0.8858\n",
            "Epoch 79/100\n",
            "32/32 [==============================] - 2s 54ms/step - loss: 0.4486 - accuracy: 0.8813 - val_loss: 0.3857 - val_accuracy: 0.8995\n",
            "Epoch 80/100\n",
            "32/32 [==============================] - 2s 54ms/step - loss: 0.4241 - accuracy: 0.8808 - val_loss: 0.3953 - val_accuracy: 0.8995\n",
            "Epoch 81/100\n",
            "32/32 [==============================] - 2s 56ms/step - loss: 0.4174 - accuracy: 0.9015 - val_loss: 0.4059 - val_accuracy: 0.8904\n",
            "Epoch 82/100\n",
            "32/32 [==============================] - 2s 56ms/step - loss: 0.4176 - accuracy: 0.8885 - val_loss: 0.3937 - val_accuracy: 0.8995\n",
            "Epoch 83/100\n",
            "32/32 [==============================] - 2s 56ms/step - loss: 0.4569 - accuracy: 0.8754 - val_loss: 0.3959 - val_accuracy: 0.8995\n",
            "Epoch 84/100\n",
            "32/32 [==============================] - 2s 53ms/step - loss: 0.4127 - accuracy: 0.9021 - val_loss: 0.3875 - val_accuracy: 0.9178\n",
            "Epoch 85/100\n",
            "32/32 [==============================] - 2s 55ms/step - loss: 0.4319 - accuracy: 0.8889 - val_loss: 0.3934 - val_accuracy: 0.8995\n",
            "Epoch 86/100\n",
            "32/32 [==============================] - 2s 55ms/step - loss: 0.4218 - accuracy: 0.8836 - val_loss: 0.3947 - val_accuracy: 0.8813\n",
            "Epoch 87/100\n",
            "32/32 [==============================] - 2s 53ms/step - loss: 0.4297 - accuracy: 0.8818 - val_loss: 0.4490 - val_accuracy: 0.8904\n",
            "Epoch 88/100\n",
            "32/32 [==============================] - 2s 59ms/step - loss: 0.4682 - accuracy: 0.8662 - val_loss: 0.3892 - val_accuracy: 0.9132\n",
            "Epoch 89/100\n",
            "32/32 [==============================] - 2s 60ms/step - loss: 0.4230 - accuracy: 0.8877 - val_loss: 0.4045 - val_accuracy: 0.8858\n",
            "Epoch 90/100\n",
            "32/32 [==============================] - 2s 61ms/step - loss: 0.4404 - accuracy: 0.8892 - val_loss: 0.4234 - val_accuracy: 0.8858\n",
            "Epoch 91/100\n",
            "32/32 [==============================] - 2s 54ms/step - loss: 0.4570 - accuracy: 0.8672 - val_loss: 0.3921 - val_accuracy: 0.9087\n",
            "Epoch 92/100\n",
            "32/32 [==============================] - 2s 56ms/step - loss: 0.4219 - accuracy: 0.8861 - val_loss: 0.3881 - val_accuracy: 0.9178\n",
            "Epoch 93/100\n",
            "32/32 [==============================] - 2s 53ms/step - loss: 0.4071 - accuracy: 0.8965 - val_loss: 0.3870 - val_accuracy: 0.9087\n",
            "Epoch 94/100\n",
            "32/32 [==============================] - 2s 53ms/step - loss: 0.3999 - accuracy: 0.9096 - val_loss: 0.3896 - val_accuracy: 0.9178\n",
            "Epoch 95/100\n",
            "32/32 [==============================] - 2s 53ms/step - loss: 0.4057 - accuracy: 0.9046 - val_loss: 0.3852 - val_accuracy: 0.9178\n",
            "Epoch 96/100\n",
            "32/32 [==============================] - 2s 53ms/step - loss: 0.4322 - accuracy: 0.8859 - val_loss: 0.4103 - val_accuracy: 0.8813\n",
            "Epoch 97/100\n",
            "32/32 [==============================] - 2s 53ms/step - loss: 0.4237 - accuracy: 0.8837 - val_loss: 0.4025 - val_accuracy: 0.8904\n",
            "Epoch 98/100\n",
            "32/32 [==============================] - 2s 54ms/step - loss: 0.4095 - accuracy: 0.8907 - val_loss: 0.4029 - val_accuracy: 0.8995\n",
            "Epoch 99/100\n",
            "32/32 [==============================] - 2s 57ms/step - loss: 0.4295 - accuracy: 0.8864 - val_loss: 0.3984 - val_accuracy: 0.8767\n",
            "Epoch 100/100\n",
            "32/32 [==============================] - 2s 54ms/step - loss: 0.4354 - accuracy: 0.8819 - val_loss: 0.3884 - val_accuracy: 0.9041\n"
          ],
          "name": "stdout"
        }
      ]
    },
    {
      "cell_type": "code",
      "metadata": {
        "colab": {
          "base_uri": "https://localhost:8080/",
          "height": 295
        },
        "id": "1d5sTTVYikkj",
        "outputId": "d15f89a9-699b-4e72-89d3-04b2c2be3da2"
      },
      "source": [
        "plt.plot(hist_3.history['loss'])\n",
        "plt.plot(hist_3.history['val_loss'])\n",
        "plt.title('Model loss')\n",
        "plt.ylabel('Loss')\n",
        "plt.xlabel('Epoch')\n",
        "plt.legend(['Train', 'Val'], loc='upper right')\n",
        "plt.ylim(top=1.2, bottom=0)\n",
        "plt.show()"
      ],
      "execution_count": 39,
      "outputs": [
        {
          "output_type": "display_data",
          "data": {
            "image/png": "[encoded data removed]",
            "text/plain": [
              "<Figure size 432x288 with 1 Axes>"
            ]
          },
          "metadata": {
            "tags": [],
            "needs_background": "light"
          }
        }
      ]
    },
    {
      "cell_type": "code",
      "metadata": {
        "colab": {
          "base_uri": "https://localhost:8080/",
          "height": 295
        },
        "id": "1d6kpSkYipQB",
        "outputId": "3a9b3317-f170-489a-8940-48d4f4443116"
      },
      "source": [
        "plt.plot(hist_3.history['accuracy'])\n",
        "plt.plot(hist_3.history['val_accuracy'])\n",
        "plt.title('Model accuracy')\n",
        "plt.ylabel('Accuracy')\n",
        "plt.xlabel('Epoch')\n",
        "plt.legend(['Train', 'Val'], loc='lower right')\n",
        "plt.show()"
      ],
      "execution_count": 40,
      "outputs": [
        {
          "output_type": "display_data",
          "data": {
            "image/png": "[encoded data removed]",
            "text/plain": [
              "<Figure size 432x288 with 1 Axes>"
            ]
          },
          "metadata": {
            "tags": [],
            "needs_background": "light"
          }
        }
      ]
    }
  ]
}