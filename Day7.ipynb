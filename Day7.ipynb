{
  "nbformat": 4,
  "nbformat_minor": 0,
  "metadata": {
    "colab": {
      "name": "Day7.ipynb",
      "provenance": [],
      "authorship_tag": "ABX9TyN07dVJChJtILgIplQ+Wt37",
      "include_colab_link": true
    },
    "kernelspec": {
      "name": "python3",
      "display_name": "Python 3"
    },
    "language_info": {
      "name": "python"
    }
  },
  "cells": [
    {
      "cell_type": "markdown",
      "metadata": {
        "id": "view-in-github",
        "colab_type": "text"
      },
      "source": [
        "<a href=\"https://colab.research.google.com/github/NikyDS/sureStartND/blob/main/Day7.ipynb\" target=\"_parent\"><img src=\"https://colab.research.google.com/assets/colab-badge.svg\" alt=\"Open In Colab\"/></a>"
      ]
    },
    {
      "cell_type": "code",
      "metadata": {
        "colab": {
          "base_uri": "https://localhost:8080/"
        },
        "id": "60mHHdqD5NHQ",
        "outputId": "b07fc2dc-f61a-46fa-f389-0cb8db9d68e7"
      },
      "source": [
        "import tensorflow as tf\n",
        "\n",
        "# Initialize two constants\n",
        "x1 = tf.constant([1,2,3,4])\n",
        "x2 = tf.constant([5,6,7,8])\n",
        "\n",
        "# Multiply\n",
        "result = tf.multiply(x1, x2)\n",
        "\n",
        "# Print the result\n",
        "print(result)"
      ],
      "execution_count": null,
      "outputs": [
        {
          "output_type": "stream",
          "text": [
            "tf.Tensor([ 5 12 21 32], shape=(4,), dtype=int32)\n"
          ],
          "name": "stdout"
        }
      ]
    },
    {
      "cell_type": "code",
      "metadata": {
        "colab": {
          "base_uri": "https://localhost:8080/",
          "height": 1000
        },
        "id": "DoC5g8jbJEkS",
        "outputId": "e8d11617-bb04-4390-d284-7f23648be0a5"
      },
      "source": [
        "# Import pandas \n",
        "import pandas as pd\n",
        "\n",
        "# Read in white wine data \n",
        "white = pd.read_csv(\"http://archive.ics.uci.edu/ml/machine-learning-databases/wine-quality/winequality-white.csv\", sep=';')\n",
        "\n",
        "# Read in red wine data \n",
        "red = pd.read_csv(\"http://archive.ics.uci.edu/ml/machine-learning-databases/wine-quality/winequality-red.csv\", sep=';')\n",
        "# Print info on white wine\n",
        "print(white.info())\n",
        "\n",
        "# Print info on red wine\n",
        "print(red.info())\n",
        "# First rows of `red` \n",
        "red.head()\n",
        "\n",
        "# Last rows of `white`\n",
        "white.tail()\n",
        "\n",
        "# Take a sample of 5 rows of `red`\n",
        "red.sample(5)\n",
        "\n",
        "# Describe `white`\n",
        "white.describe()\n",
        "\n",
        "# Double check for null values in `red`\n",
        "pd.isnull(red)\n",
        "import matplotlib.pyplot as plt\n",
        "\n",
        "fig, ax = plt.subplots(1, 2)\n",
        "\n",
        "ax[0].hist(red.alcohol, 10, facecolor='red', alpha=0.5, label=\"Red wine\")\n",
        "ax[1].hist(white.alcohol, 10, facecolor='white', ec=\"black\", lw=0.5, alpha=0.5, label=\"White wine\")\n",
        "\n",
        "fig.subplots_adjust(left=0, right=1, bottom=0, top=0.5, hspace=0.05, wspace=1)\n",
        "ax[0].set_ylim([0, 1000])\n",
        "ax[0].set_xlabel(\"Alcohol in % Vol\")\n",
        "ax[0].set_ylabel(\"Frequency\")\n",
        "ax[1].set_xlabel(\"Alcohol in % Vol\")\n",
        "ax[1].set_ylabel(\"Frequency\")\n",
        "#ax[0].legend(loc='best')\n",
        "#ax[1].legend(loc='best')\n",
        "fig.suptitle(\"Distribution of Alcohol in % Vol\")\n",
        "\n",
        "plt.show()\n",
        "import numpy as np\n",
        "print(np.histogram(red.alcohol, bins=[7,8,9,10,11,12,13,14,15]))\n",
        "print(np.histogram(white.alcohol, bins=[7,8,9,10,11,12,13,14,15]))\n",
        "import matplotlib.pyplot as plt\n",
        "\n",
        "fig, ax = plt.subplots(1, 2, figsize=(8, 4))\n",
        "\n",
        "ax[0].scatter(red['quality'], red[\"sulphates\"], color=\"red\")\n",
        "ax[1].scatter(white['quality'], white['sulphates'], color=\"white\", edgecolors=\"black\", lw=0.5)\n",
        "\n",
        "ax[0].set_title(\"Red Wine\")\n",
        "ax[1].set_title(\"White Wine\")\n",
        "ax[0].set_xlabel(\"Quality\")\n",
        "ax[1].set_xlabel(\"Quality\")\n",
        "ax[0].set_ylabel(\"Sulphates\")\n",
        "ax[1].set_ylabel(\"Sulphates\")\n",
        "ax[0].set_xlim([0,10])\n",
        "ax[1].set_xlim([0,10])\n",
        "ax[0].set_ylim([0,2.5])\n",
        "ax[1].set_ylim([0,2.5])\n",
        "fig.subplots_adjust(wspace=0.5)\n",
        "fig.suptitle(\"Wine Quality by Amount of Sulphates\")\n",
        "\n",
        "plt.show()\n",
        "import matplotlib.pyplot as plt\n",
        "import numpy as np\n",
        "\n",
        "np.random.seed(570)\n",
        "\n",
        "redlabels = np.unique(red['quality'])\n",
        "whitelabels = np.unique(white['quality'])\n",
        "\n",
        "import matplotlib.pyplot as plt\n",
        "fig, ax = plt.subplots(1, 2, figsize=(8, 4))\n",
        "redcolors = np.random.rand(6,4)\n",
        "whitecolors = np.append(redcolors, np.random.rand(1,4), axis=0)\n",
        "\n",
        "for i in range(len(redcolors)):\n",
        "    redy = red['alcohol'][red.quality == redlabels[i]]\n",
        "    redx = red['volatile acidity'][red.quality == redlabels[i]]\n",
        "    ax[0].scatter(redx, redy, c=redcolors[i])\n",
        "for i in range(len(whitecolors)):\n",
        "    whitey = white['alcohol'][white.quality == whitelabels[i]]\n",
        "    whitex = white['volatile acidity'][white.quality == whitelabels[i]]\n",
        "    ax[1].scatter(whitex, whitey, c=whitecolors[i])\n",
        "    \n",
        "ax[0].set_title(\"Red Wine\")\n",
        "ax[1].set_title(\"White Wine\")\n",
        "ax[0].set_xlim([0,1.7])\n",
        "ax[1].set_xlim([0,1.7])\n",
        "ax[0].set_ylim([5,15.5])\n",
        "ax[1].set_ylim([5,15.5])\n",
        "ax[0].set_xlabel(\"Volatile Acidity\")\n",
        "ax[0].set_ylabel(\"Alcohol\")\n",
        "ax[1].set_xlabel(\"Volatile Acidity\")\n",
        "ax[1].set_ylabel(\"Alcohol\") \n",
        "#ax[0].legend(redlabels, loc='best', bbox_to_anchor=(1.3, 1))\n",
        "ax[1].legend(whitelabels, loc='best', bbox_to_anchor=(1.3, 1))\n",
        "#fig.suptitle(\"Alcohol - Volatile Acidity\")\n",
        "fig.subplots_adjust(top=0.85, wspace=0.7)\n",
        "\n",
        "plt.show()"
      ],
      "execution_count": 7,
      "outputs": [
        {
          "output_type": "stream",
          "text": [
            "<class 'pandas.core.frame.DataFrame'>\n",
            "RangeIndex: 4898 entries, 0 to 4897\n",
            "Data columns (total 12 columns):\n",
            " #   Column                Non-Null Count  Dtype  \n",
            "---  ------                --------------  -----  \n",
            " 0   fixed acidity         4898 non-null   float64\n",
            " 1   volatile acidity      4898 non-null   float64\n",
            " 2   citric acid           4898 non-null   float64\n",
            " 3   residual sugar        4898 non-null   float64\n",
            " 4   chlorides             4898 non-null   float64\n",
            " 5   free sulfur dioxide   4898 non-null   float64\n",
            " 6   total sulfur dioxide  4898 non-null   float64\n",
            " 7   density               4898 non-null   float64\n",
            " 8   pH                    4898 non-null   float64\n",
            " 9   sulphates             4898 non-null   float64\n",
            " 10  alcohol               4898 non-null   float64\n",
            " 11  quality               4898 non-null   int64  \n",
            "dtypes: float64(11), int64(1)\n",
            "memory usage: 459.3 KB\n",
            "None\n",
            "<class 'pandas.core.frame.DataFrame'>\n",
            "RangeIndex: 1599 entries, 0 to 1598\n",
            "Data columns (total 12 columns):\n",
            " #   Column                Non-Null Count  Dtype  \n",
            "---  ------                --------------  -----  \n",
            " 0   fixed acidity         1599 non-null   float64\n",
            " 1   volatile acidity      1599 non-null   float64\n",
            " 2   citric acid           1599 non-null   float64\n",
            " 3   residual sugar        1599 non-null   float64\n",
            " 4   chlorides             1599 non-null   float64\n",
            " 5   free sulfur dioxide   1599 non-null   float64\n",
            " 6   total sulfur dioxide  1599 non-null   float64\n",
            " 7   density               1599 non-null   float64\n",
            " 8   pH                    1599 non-null   float64\n",
            " 9   sulphates             1599 non-null   float64\n",
            " 10  alcohol               1599 non-null   float64\n",
            " 11  quality               1599 non-null   int64  \n",
            "dtypes: float64(11), int64(1)\n",
            "memory usage: 150.0 KB\n",
            "None\n"
          ],
          "name": "stdout"
        },
        {
          "output_type": "display_data",
          "data": {
            "image/png": "[encoded data removed]",
            "text/plain": [
              "<Figure size 432x288 with 2 Axes>"
            ]
          },
          "metadata": {
            "tags": [],
            "needs_background": "light"
          }
        },
        {
          "output_type": "stream",
          "text": [
            "(array([  0,   7, 673, 452, 305, 133,  21,   8]), array([ 7,  8,  9, 10, 11, 12, 13, 14, 15]))\n",
            "(array([   0,  317, 1606, 1256,  906,  675,  131,    7]), array([ 7,  8,  9, 10, 11, 12, 13, 14, 15]))\n"
          ],
          "name": "stdout"
        },
        {
          "output_type": "display_data",
          "data": {
            "image/png": "[encoded data removed]",
            "text/plain": [
              "<Figure size 576x288 with 2 Axes>"
            ]
          },
          "metadata": {
            "tags": [],
            "needs_background": "light"
          }
        }
      ]
    }
  ]
}